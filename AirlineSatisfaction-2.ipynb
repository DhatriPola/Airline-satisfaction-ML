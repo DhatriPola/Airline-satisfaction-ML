{
  "nbformat": 4,
  "nbformat_minor": 0,
  "metadata": {
    "colab": {
      "provenance": []
    },
    "kernelspec": {
      "name": "python3",
      "display_name": "Python 3"
    },
    "language_info": {
      "name": "python"
    }
  },
  "cells": [
    {
      "cell_type": "markdown",
      "source": [
        "Importing the Dataset - Airline Satisfaction\n",
        "This dataset contains an airline passenger satisfaction survey. What factors are highly correlated to a satisfied (or dissatisfied) passenger? Can you predict passenger satisfaction?"
      ],
      "metadata": {
        "id": "8qUG9zRVzuzk"
      }
    },
    {
      "cell_type": "code",
      "source": [
        "import numpy as np # linear algebra\n",
        "import pandas as pd # data processing, CSV file I/O (e.g. pd.read_csv)\n",
        "import matplotlib.pyplot as plt\n",
        "import seaborn as sns\n",
        "%matplotlib inline"
      ],
      "metadata": {
        "id": "ebcYGOZew__r"
      },
      "execution_count": null,
      "outputs": []
    },
    {
      "cell_type": "code",
      "source": [
        "train_data=pd.read_csv(\"/content/drive/MyDrive/Arline /train.csv\",index_col=0)\n",
        "train_data.shape"
      ],
      "metadata": {
        "id": "zkgzDZxhztvm",
        "colab": {
          "base_uri": "https://localhost:8080/"
        },
        "outputId": "53a0ef37-17b2-4f1a-f020-404b1daa5938"
      },
      "execution_count": 4,
      "outputs": [
        {
          "output_type": "execute_result",
          "data": {
            "text/plain": [
              "(5, 17)"
            ]
          },
          "metadata": {},
          "execution_count": 4
        }
      ]
    },
    {
      "cell_type": "code",
      "source": [
        "from google.colab import drive\n",
        "drive.mount('/content/drive')"
      ],
      "metadata": {
        "id": "6sYJ9C-0qqnI",
        "outputId": "a13b6ea3-586b-4407-9d43-a42af64f0427",
        "colab": {
          "base_uri": "https://localhost:8080/"
        }
      },
      "execution_count": null,
      "outputs": [
        {
          "output_type": "stream",
          "name": "stdout",
          "text": [
            "Mounted at /content/drive\n"
          ]
        }
      ]
    },
    {
      "cell_type": "code",
      "source": [
        "train_data.head()"
      ],
      "metadata": {
        "id": "dHFE2TsUzaaI",
        "colab": {
          "base_uri": "https://localhost:8080/",
          "height": 346
        },
        "outputId": "acb249ae-36ff-4f13-8200-2f17d18794c8"
      },
      "execution_count": 5,
      "outputs": [
        {
          "output_type": "execute_result",
          "data": {
            "text/plain": [
              "                    Age Type of Travel   Class Flight Distance  \\\n",
              "Customer Type                                                    \n",
              "1.0            0.965187              1       2    -0.969622608   \n",
              "1.0            0.630000           -       -             (0.18)   \n",
              "1.0            1.100000          1.00    2.00            0.48    \n",
              "1.0            1.031378              1       2     -0.42977418   \n",
              "1.0            0.501852              1       2    -0.677622808   \n",
              "\n",
              "              Departure/Arrival time convenient  Gate location  \\\n",
              "Customer Type                                                    \n",
              "1.0                                -0.035559408       0.020673   \n",
              "1.0                                      (1.34)       0.020000   \n",
              "1.0                                      (2.00)       0.800000   \n",
              "1.0                                 0.618265524      -0.760988   \n",
              "1.0                                 0.618265524       0.802334   \n",
              "\n",
              "              Online boarding On-board service Leg room service  \\\n",
              "Customer Type                                                     \n",
              "1.0               0.552022904      1.255174141      1.251334128   \n",
              "1.0                    (0.93)           (0.30)           (1.03)   \n",
              "1.0                     1.29            (0.30)           (0.27)   \n",
              "1.0               0.552022904      0.478101747      0.491191351   \n",
              "1.0               0.552022904      1.255174141      1.251334128   \n",
              "\n",
              "              Baggage handling Checkin service Inflight service      PCA1  \\\n",
              "Customer Type                                                               \n",
              "1.0                1.158116927     0.546558187      1.151835808 -0.265705   \n",
              "1.0                     (1.38)          (1.03)           (1.40)  0.770000   \n",
              "1.0                     (0.54)          (0.24)           (0.55)  2.840000   \n",
              "1.0                0.310808972     0.546558187      0.301603872  0.770892   \n",
              "1.0                1.158116927     0.546558187      1.151835808 -0.292883   \n",
              "\n",
              "                       PCA2          PCA3  Unnamed: 16  Unnamed: 17  \n",
              "Customer Type                                                        \n",
              "1.0             -2.16476148   0.028482302          NaN          NaN  \n",
              "1.0                   0.49         (0.55)          NaN          NaN  \n",
              "1.0                  (0.65)         2.45           NaN          NaN  \n",
              "1.0             -1.36653478  -0.552513004          NaN          NaN  \n",
              "1.0            -1.401173759  -0.552513004          NaN          NaN  "
            ],
            "text/html": [
              "\n",
              "  <div id=\"df-ac0ee541-d3cb-4b4c-a1d7-4abef4de2b64\">\n",
              "    <div class=\"colab-df-container\">\n",
              "      <div>\n",
              "<style scoped>\n",
              "    .dataframe tbody tr th:only-of-type {\n",
              "        vertical-align: middle;\n",
              "    }\n",
              "\n",
              "    .dataframe tbody tr th {\n",
              "        vertical-align: top;\n",
              "    }\n",
              "\n",
              "    .dataframe thead th {\n",
              "        text-align: right;\n",
              "    }\n",
              "</style>\n",
              "<table border=\"1\" class=\"dataframe\">\n",
              "  <thead>\n",
              "    <tr style=\"text-align: right;\">\n",
              "      <th></th>\n",
              "      <th>Age</th>\n",
              "      <th>Type of Travel</th>\n",
              "      <th>Class</th>\n",
              "      <th>Flight Distance</th>\n",
              "      <th>Departure/Arrival time convenient</th>\n",
              "      <th>Gate location</th>\n",
              "      <th>Online boarding</th>\n",
              "      <th>On-board service</th>\n",
              "      <th>Leg room service</th>\n",
              "      <th>Baggage handling</th>\n",
              "      <th>Checkin service</th>\n",
              "      <th>Inflight service</th>\n",
              "      <th>PCA1</th>\n",
              "      <th>PCA2</th>\n",
              "      <th>PCA3</th>\n",
              "      <th>Unnamed: 16</th>\n",
              "      <th>Unnamed: 17</th>\n",
              "    </tr>\n",
              "    <tr>\n",
              "      <th>Customer Type</th>\n",
              "      <th></th>\n",
              "      <th></th>\n",
              "      <th></th>\n",
              "      <th></th>\n",
              "      <th></th>\n",
              "      <th></th>\n",
              "      <th></th>\n",
              "      <th></th>\n",
              "      <th></th>\n",
              "      <th></th>\n",
              "      <th></th>\n",
              "      <th></th>\n",
              "      <th></th>\n",
              "      <th></th>\n",
              "      <th></th>\n",
              "      <th></th>\n",
              "      <th></th>\n",
              "    </tr>\n",
              "  </thead>\n",
              "  <tbody>\n",
              "    <tr>\n",
              "      <th>1.0</th>\n",
              "      <td>0.965187</td>\n",
              "      <td>1</td>\n",
              "      <td>2</td>\n",
              "      <td>-0.969622608</td>\n",
              "      <td>-0.035559408</td>\n",
              "      <td>0.020673</td>\n",
              "      <td>0.552022904</td>\n",
              "      <td>1.255174141</td>\n",
              "      <td>1.251334128</td>\n",
              "      <td>1.158116927</td>\n",
              "      <td>0.546558187</td>\n",
              "      <td>1.151835808</td>\n",
              "      <td>-0.265705</td>\n",
              "      <td>-2.16476148</td>\n",
              "      <td>0.028482302</td>\n",
              "      <td>NaN</td>\n",
              "      <td>NaN</td>\n",
              "    </tr>\n",
              "    <tr>\n",
              "      <th>1.0</th>\n",
              "      <td>0.630000</td>\n",
              "      <td>-</td>\n",
              "      <td>-</td>\n",
              "      <td>(0.18)</td>\n",
              "      <td>(1.34)</td>\n",
              "      <td>0.020000</td>\n",
              "      <td>(0.93)</td>\n",
              "      <td>(0.30)</td>\n",
              "      <td>(1.03)</td>\n",
              "      <td>(1.38)</td>\n",
              "      <td>(1.03)</td>\n",
              "      <td>(1.40)</td>\n",
              "      <td>0.770000</td>\n",
              "      <td>0.49</td>\n",
              "      <td>(0.55)</td>\n",
              "      <td>NaN</td>\n",
              "      <td>NaN</td>\n",
              "    </tr>\n",
              "    <tr>\n",
              "      <th>1.0</th>\n",
              "      <td>1.100000</td>\n",
              "      <td>1.00</td>\n",
              "      <td>2.00</td>\n",
              "      <td>0.48</td>\n",
              "      <td>(2.00)</td>\n",
              "      <td>0.800000</td>\n",
              "      <td>1.29</td>\n",
              "      <td>(0.30)</td>\n",
              "      <td>(0.27)</td>\n",
              "      <td>(0.54)</td>\n",
              "      <td>(0.24)</td>\n",
              "      <td>(0.55)</td>\n",
              "      <td>2.840000</td>\n",
              "      <td>(0.65)</td>\n",
              "      <td>2.45</td>\n",
              "      <td>NaN</td>\n",
              "      <td>NaN</td>\n",
              "    </tr>\n",
              "    <tr>\n",
              "      <th>1.0</th>\n",
              "      <td>1.031378</td>\n",
              "      <td>1</td>\n",
              "      <td>2</td>\n",
              "      <td>-0.42977418</td>\n",
              "      <td>0.618265524</td>\n",
              "      <td>-0.760988</td>\n",
              "      <td>0.552022904</td>\n",
              "      <td>0.478101747</td>\n",
              "      <td>0.491191351</td>\n",
              "      <td>0.310808972</td>\n",
              "      <td>0.546558187</td>\n",
              "      <td>0.301603872</td>\n",
              "      <td>0.770892</td>\n",
              "      <td>-1.36653478</td>\n",
              "      <td>-0.552513004</td>\n",
              "      <td>NaN</td>\n",
              "      <td>NaN</td>\n",
              "    </tr>\n",
              "    <tr>\n",
              "      <th>1.0</th>\n",
              "      <td>0.501852</td>\n",
              "      <td>1</td>\n",
              "      <td>2</td>\n",
              "      <td>-0.677622808</td>\n",
              "      <td>0.618265524</td>\n",
              "      <td>0.802334</td>\n",
              "      <td>0.552022904</td>\n",
              "      <td>1.255174141</td>\n",
              "      <td>1.251334128</td>\n",
              "      <td>1.158116927</td>\n",
              "      <td>0.546558187</td>\n",
              "      <td>1.151835808</td>\n",
              "      <td>-0.292883</td>\n",
              "      <td>-1.401173759</td>\n",
              "      <td>-0.552513004</td>\n",
              "      <td>NaN</td>\n",
              "      <td>NaN</td>\n",
              "    </tr>\n",
              "  </tbody>\n",
              "</table>\n",
              "</div>\n",
              "      <button class=\"colab-df-convert\" onclick=\"convertToInteractive('df-ac0ee541-d3cb-4b4c-a1d7-4abef4de2b64')\"\n",
              "              title=\"Convert this dataframe to an interactive table.\"\n",
              "              style=\"display:none;\">\n",
              "        \n",
              "  <svg xmlns=\"http://www.w3.org/2000/svg\" height=\"24px\"viewBox=\"0 0 24 24\"\n",
              "       width=\"24px\">\n",
              "    <path d=\"M0 0h24v24H0V0z\" fill=\"none\"/>\n",
              "    <path d=\"M18.56 5.44l.94 2.06.94-2.06 2.06-.94-2.06-.94-.94-2.06-.94 2.06-2.06.94zm-11 1L8.5 8.5l.94-2.06 2.06-.94-2.06-.94L8.5 2.5l-.94 2.06-2.06.94zm10 10l.94 2.06.94-2.06 2.06-.94-2.06-.94-.94-2.06-.94 2.06-2.06.94z\"/><path d=\"M17.41 7.96l-1.37-1.37c-.4-.4-.92-.59-1.43-.59-.52 0-1.04.2-1.43.59L10.3 9.45l-7.72 7.72c-.78.78-.78 2.05 0 2.83L4 21.41c.39.39.9.59 1.41.59.51 0 1.02-.2 1.41-.59l7.78-7.78 2.81-2.81c.8-.78.8-2.07 0-2.86zM5.41 20L4 18.59l7.72-7.72 1.47 1.35L5.41 20z\"/>\n",
              "  </svg>\n",
              "      </button>\n",
              "      \n",
              "  <style>\n",
              "    .colab-df-container {\n",
              "      display:flex;\n",
              "      flex-wrap:wrap;\n",
              "      gap: 12px;\n",
              "    }\n",
              "\n",
              "    .colab-df-convert {\n",
              "      background-color: #E8F0FE;\n",
              "      border: none;\n",
              "      border-radius: 50%;\n",
              "      cursor: pointer;\n",
              "      display: none;\n",
              "      fill: #1967D2;\n",
              "      height: 32px;\n",
              "      padding: 0 0 0 0;\n",
              "      width: 32px;\n",
              "    }\n",
              "\n",
              "    .colab-df-convert:hover {\n",
              "      background-color: #E2EBFA;\n",
              "      box-shadow: 0px 1px 2px rgba(60, 64, 67, 0.3), 0px 1px 3px 1px rgba(60, 64, 67, 0.15);\n",
              "      fill: #174EA6;\n",
              "    }\n",
              "\n",
              "    [theme=dark] .colab-df-convert {\n",
              "      background-color: #3B4455;\n",
              "      fill: #D2E3FC;\n",
              "    }\n",
              "\n",
              "    [theme=dark] .colab-df-convert:hover {\n",
              "      background-color: #434B5C;\n",
              "      box-shadow: 0px 1px 3px 1px rgba(0, 0, 0, 0.15);\n",
              "      filter: drop-shadow(0px 1px 2px rgba(0, 0, 0, 0.3));\n",
              "      fill: #FFFFFF;\n",
              "    }\n",
              "  </style>\n",
              "\n",
              "      <script>\n",
              "        const buttonEl =\n",
              "          document.querySelector('#df-ac0ee541-d3cb-4b4c-a1d7-4abef4de2b64 button.colab-df-convert');\n",
              "        buttonEl.style.display =\n",
              "          google.colab.kernel.accessAllowed ? 'block' : 'none';\n",
              "\n",
              "        async function convertToInteractive(key) {\n",
              "          const element = document.querySelector('#df-ac0ee541-d3cb-4b4c-a1d7-4abef4de2b64');\n",
              "          const dataTable =\n",
              "            await google.colab.kernel.invokeFunction('convertToInteractive',\n",
              "                                                     [key], {});\n",
              "          if (!dataTable) return;\n",
              "\n",
              "          const docLinkHtml = 'Like what you see? Visit the ' +\n",
              "            '<a target=\"_blank\" href=https://colab.research.google.com/notebooks/data_table.ipynb>data table notebook</a>'\n",
              "            + ' to learn more about interactive tables.';\n",
              "          element.innerHTML = '';\n",
              "          dataTable['output_type'] = 'display_data';\n",
              "          await google.colab.output.renderOutput(dataTable, element);\n",
              "          const docLink = document.createElement('div');\n",
              "          docLink.innerHTML = docLinkHtml;\n",
              "          element.appendChild(docLink);\n",
              "        }\n",
              "      </script>\n",
              "    </div>\n",
              "  </div>\n",
              "  "
            ]
          },
          "metadata": {},
          "execution_count": 5
        }
      ]
    },
    {
      "cell_type": "code",
      "source": [
        "train_data.describe().T"
      ],
      "metadata": {
        "id": "AQGBQgUVxOf6",
        "colab": {
          "base_uri": "https://localhost:8080/",
          "height": 221
        },
        "outputId": "098fedc8-095c-49b3-f6d8-4903471ee9d7"
      },
      "execution_count": 6,
      "outputs": [
        {
          "output_type": "execute_result",
          "data": {
            "text/plain": [
              "               count      mean       std       min       25%       50%  \\\n",
              "Age              5.0  0.845683  0.263714  0.501852  0.630000  0.965187   \n",
              "Gate location    5.0  0.176404  0.653467 -0.760988  0.020000  0.020673   \n",
              "PCA1             5.0  0.764461  1.273495 -0.292883 -0.265705  0.770000   \n",
              "Unnamed: 16      0.0       NaN       NaN       NaN       NaN       NaN   \n",
              "Unnamed: 17      0.0       NaN       NaN       NaN       NaN       NaN   \n",
              "\n",
              "                    75%       max  \n",
              "Age            1.031378  1.100000  \n",
              "Gate location  0.800000  0.802334  \n",
              "PCA1           0.770892  2.840000  \n",
              "Unnamed: 16         NaN       NaN  \n",
              "Unnamed: 17         NaN       NaN  "
            ],
            "text/html": [
              "\n",
              "  <div id=\"df-b6f15b62-be7d-4d7d-aced-c0c997ef3a3e\">\n",
              "    <div class=\"colab-df-container\">\n",
              "      <div>\n",
              "<style scoped>\n",
              "    .dataframe tbody tr th:only-of-type {\n",
              "        vertical-align: middle;\n",
              "    }\n",
              "\n",
              "    .dataframe tbody tr th {\n",
              "        vertical-align: top;\n",
              "    }\n",
              "\n",
              "    .dataframe thead th {\n",
              "        text-align: right;\n",
              "    }\n",
              "</style>\n",
              "<table border=\"1\" class=\"dataframe\">\n",
              "  <thead>\n",
              "    <tr style=\"text-align: right;\">\n",
              "      <th></th>\n",
              "      <th>count</th>\n",
              "      <th>mean</th>\n",
              "      <th>std</th>\n",
              "      <th>min</th>\n",
              "      <th>25%</th>\n",
              "      <th>50%</th>\n",
              "      <th>75%</th>\n",
              "      <th>max</th>\n",
              "    </tr>\n",
              "  </thead>\n",
              "  <tbody>\n",
              "    <tr>\n",
              "      <th>Age</th>\n",
              "      <td>5.0</td>\n",
              "      <td>0.845683</td>\n",
              "      <td>0.263714</td>\n",
              "      <td>0.501852</td>\n",
              "      <td>0.630000</td>\n",
              "      <td>0.965187</td>\n",
              "      <td>1.031378</td>\n",
              "      <td>1.100000</td>\n",
              "    </tr>\n",
              "    <tr>\n",
              "      <th>Gate location</th>\n",
              "      <td>5.0</td>\n",
              "      <td>0.176404</td>\n",
              "      <td>0.653467</td>\n",
              "      <td>-0.760988</td>\n",
              "      <td>0.020000</td>\n",
              "      <td>0.020673</td>\n",
              "      <td>0.800000</td>\n",
              "      <td>0.802334</td>\n",
              "    </tr>\n",
              "    <tr>\n",
              "      <th>PCA1</th>\n",
              "      <td>5.0</td>\n",
              "      <td>0.764461</td>\n",
              "      <td>1.273495</td>\n",
              "      <td>-0.292883</td>\n",
              "      <td>-0.265705</td>\n",
              "      <td>0.770000</td>\n",
              "      <td>0.770892</td>\n",
              "      <td>2.840000</td>\n",
              "    </tr>\n",
              "    <tr>\n",
              "      <th>Unnamed: 16</th>\n",
              "      <td>0.0</td>\n",
              "      <td>NaN</td>\n",
              "      <td>NaN</td>\n",
              "      <td>NaN</td>\n",
              "      <td>NaN</td>\n",
              "      <td>NaN</td>\n",
              "      <td>NaN</td>\n",
              "      <td>NaN</td>\n",
              "    </tr>\n",
              "    <tr>\n",
              "      <th>Unnamed: 17</th>\n",
              "      <td>0.0</td>\n",
              "      <td>NaN</td>\n",
              "      <td>NaN</td>\n",
              "      <td>NaN</td>\n",
              "      <td>NaN</td>\n",
              "      <td>NaN</td>\n",
              "      <td>NaN</td>\n",
              "      <td>NaN</td>\n",
              "    </tr>\n",
              "  </tbody>\n",
              "</table>\n",
              "</div>\n",
              "      <button class=\"colab-df-convert\" onclick=\"convertToInteractive('df-b6f15b62-be7d-4d7d-aced-c0c997ef3a3e')\"\n",
              "              title=\"Convert this dataframe to an interactive table.\"\n",
              "              style=\"display:none;\">\n",
              "        \n",
              "  <svg xmlns=\"http://www.w3.org/2000/svg\" height=\"24px\"viewBox=\"0 0 24 24\"\n",
              "       width=\"24px\">\n",
              "    <path d=\"M0 0h24v24H0V0z\" fill=\"none\"/>\n",
              "    <path d=\"M18.56 5.44l.94 2.06.94-2.06 2.06-.94-2.06-.94-.94-2.06-.94 2.06-2.06.94zm-11 1L8.5 8.5l.94-2.06 2.06-.94-2.06-.94L8.5 2.5l-.94 2.06-2.06.94zm10 10l.94 2.06.94-2.06 2.06-.94-2.06-.94-.94-2.06-.94 2.06-2.06.94z\"/><path d=\"M17.41 7.96l-1.37-1.37c-.4-.4-.92-.59-1.43-.59-.52 0-1.04.2-1.43.59L10.3 9.45l-7.72 7.72c-.78.78-.78 2.05 0 2.83L4 21.41c.39.39.9.59 1.41.59.51 0 1.02-.2 1.41-.59l7.78-7.78 2.81-2.81c.8-.78.8-2.07 0-2.86zM5.41 20L4 18.59l7.72-7.72 1.47 1.35L5.41 20z\"/>\n",
              "  </svg>\n",
              "      </button>\n",
              "      \n",
              "  <style>\n",
              "    .colab-df-container {\n",
              "      display:flex;\n",
              "      flex-wrap:wrap;\n",
              "      gap: 12px;\n",
              "    }\n",
              "\n",
              "    .colab-df-convert {\n",
              "      background-color: #E8F0FE;\n",
              "      border: none;\n",
              "      border-radius: 50%;\n",
              "      cursor: pointer;\n",
              "      display: none;\n",
              "      fill: #1967D2;\n",
              "      height: 32px;\n",
              "      padding: 0 0 0 0;\n",
              "      width: 32px;\n",
              "    }\n",
              "\n",
              "    .colab-df-convert:hover {\n",
              "      background-color: #E2EBFA;\n",
              "      box-shadow: 0px 1px 2px rgba(60, 64, 67, 0.3), 0px 1px 3px 1px rgba(60, 64, 67, 0.15);\n",
              "      fill: #174EA6;\n",
              "    }\n",
              "\n",
              "    [theme=dark] .colab-df-convert {\n",
              "      background-color: #3B4455;\n",
              "      fill: #D2E3FC;\n",
              "    }\n",
              "\n",
              "    [theme=dark] .colab-df-convert:hover {\n",
              "      background-color: #434B5C;\n",
              "      box-shadow: 0px 1px 3px 1px rgba(0, 0, 0, 0.15);\n",
              "      filter: drop-shadow(0px 1px 2px rgba(0, 0, 0, 0.3));\n",
              "      fill: #FFFFFF;\n",
              "    }\n",
              "  </style>\n",
              "\n",
              "      <script>\n",
              "        const buttonEl =\n",
              "          document.querySelector('#df-b6f15b62-be7d-4d7d-aced-c0c997ef3a3e button.colab-df-convert');\n",
              "        buttonEl.style.display =\n",
              "          google.colab.kernel.accessAllowed ? 'block' : 'none';\n",
              "\n",
              "        async function convertToInteractive(key) {\n",
              "          const element = document.querySelector('#df-b6f15b62-be7d-4d7d-aced-c0c997ef3a3e');\n",
              "          const dataTable =\n",
              "            await google.colab.kernel.invokeFunction('convertToInteractive',\n",
              "                                                     [key], {});\n",
              "          if (!dataTable) return;\n",
              "\n",
              "          const docLinkHtml = 'Like what you see? Visit the ' +\n",
              "            '<a target=\"_blank\" href=https://colab.research.google.com/notebooks/data_table.ipynb>data table notebook</a>'\n",
              "            + ' to learn more about interactive tables.';\n",
              "          element.innerHTML = '';\n",
              "          dataTable['output_type'] = 'display_data';\n",
              "          await google.colab.output.renderOutput(dataTable, element);\n",
              "          const docLink = document.createElement('div');\n",
              "          docLink.innerHTML = docLinkHtml;\n",
              "          element.appendChild(docLink);\n",
              "        }\n",
              "      </script>\n",
              "    </div>\n",
              "  </div>\n",
              "  "
            ]
          },
          "metadata": {},
          "execution_count": 6
        }
      ]
    },
    {
      "cell_type": "code",
      "source": [
        "train_data.info()"
      ],
      "metadata": {
        "id": "IoDgSfADxUCk",
        "colab": {
          "base_uri": "https://localhost:8080/"
        },
        "outputId": "c6d57df7-3362-4727-8430-2c420aef9c26"
      },
      "execution_count": 7,
      "outputs": [
        {
          "output_type": "stream",
          "name": "stdout",
          "text": [
            "<class 'pandas.core.frame.DataFrame'>\n",
            "Float64Index: 5 entries, 1.0 to 1.0\n",
            "Data columns (total 17 columns):\n",
            " #   Column                             Non-Null Count  Dtype  \n",
            "---  ------                             --------------  -----  \n",
            " 0   Age                                5 non-null      float64\n",
            " 1   Type of Travel                     5 non-null      object \n",
            " 2   Class                              5 non-null      object \n",
            " 3   Flight Distance                    5 non-null      object \n",
            " 4   Departure/Arrival time convenient  5 non-null      object \n",
            " 5   Gate location                      5 non-null      float64\n",
            " 6   Online boarding                    5 non-null      object \n",
            " 7   On-board service                   5 non-null      object \n",
            " 8   Leg room service                   5 non-null      object \n",
            " 9   Baggage handling                   5 non-null      object \n",
            " 10  Checkin service                    5 non-null      object \n",
            " 11  Inflight service                   5 non-null      object \n",
            " 12  PCA1                               5 non-null      float64\n",
            " 13  PCA2                               5 non-null      object \n",
            " 14  PCA3                               5 non-null      object \n",
            " 15  Unnamed: 16                        0 non-null      float64\n",
            " 16  Unnamed: 17                        0 non-null      float64\n",
            "dtypes: float64(5), object(12)\n",
            "memory usage: 720.0+ bytes\n"
          ]
        }
      ]
    },
    {
      "cell_type": "code",
      "source": [
        "train_data.isnull().sum()"
      ],
      "metadata": {
        "id": "ueKAnIBbxW1O",
        "colab": {
          "base_uri": "https://localhost:8080/"
        },
        "outputId": "ed2e8ebe-5fb3-4d9e-9b71-7e423e93668c"
      },
      "execution_count": 8,
      "outputs": [
        {
          "output_type": "execute_result",
          "data": {
            "text/plain": [
              "Age                                  0\n",
              "Type of Travel                       0\n",
              "Class                                0\n",
              "Flight Distance                      0\n",
              "Departure/Arrival time convenient    0\n",
              "Gate location                        0\n",
              "Online boarding                      0\n",
              "On-board service                     0\n",
              "Leg room service                     0\n",
              "Baggage handling                     0\n",
              "Checkin service                      0\n",
              "Inflight service                     0\n",
              "PCA1                                 0\n",
              "PCA2                                 0\n",
              "PCA3                                 0\n",
              "Unnamed: 16                          5\n",
              "Unnamed: 17                          5\n",
              "dtype: int64"
            ]
          },
          "metadata": {},
          "execution_count": 8
        }
      ]
    },
    {
      "cell_type": "code",
      "source": [
        "train_data.nunique()"
      ],
      "metadata": {
        "id": "kofUgUj9xfSA",
        "colab": {
          "base_uri": "https://localhost:8080/"
        },
        "outputId": "55178baa-eb5e-4a81-9e69-2798554c2956"
      },
      "execution_count": 9,
      "outputs": [
        {
          "output_type": "execute_result",
          "data": {
            "text/plain": [
              "Age                                  5\n",
              "Type of Travel                       3\n",
              "Class                                3\n",
              "Flight Distance                      5\n",
              "Departure/Arrival time convenient    4\n",
              "Gate location                        5\n",
              "Online boarding                      3\n",
              "On-board service                     3\n",
              "Leg room service                     4\n",
              "Baggage handling                     4\n",
              "Checkin service                      3\n",
              "Inflight service                     4\n",
              "PCA1                                 5\n",
              "PCA2                                 5\n",
              "PCA3                                 4\n",
              "Unnamed: 16                          0\n",
              "Unnamed: 17                          0\n",
              "dtype: int64"
            ]
          },
          "metadata": {},
          "execution_count": 9
        }
      ]
    },
    {
      "cell_type": "markdown",
      "source": [
        "Data Pre-processing"
      ],
      "metadata": {
        "id": "mTv__v6mcmSB"
      }
    },
    {
      "cell_type": "code",
      "source": [
        "numerical_cols = [col for col in train_data.columns if train_data[col].dtypes in ['int64','float64']]\n",
        "numerical_cols"
      ],
      "metadata": {
        "id": "gRJuwwhrwKIz",
        "colab": {
          "base_uri": "https://localhost:8080/"
        },
        "outputId": "a20022c2-3e49-4269-8c84-87646fe9c667"
      },
      "execution_count": 11,
      "outputs": [
        {
          "output_type": "execute_result",
          "data": {
            "text/plain": [
              "['Age', 'Gate location', 'PCA1', 'Unnamed: 16', 'Unnamed: 17']"
            ]
          },
          "metadata": {},
          "execution_count": 11
        }
      ]
    },
    {
      "cell_type": "code",
      "source": [
        "train_data[numerical_cols].describe()"
      ],
      "metadata": {
        "id": "nc_E5Br2wP-l"
      },
      "execution_count": null,
      "outputs": []
    },
    {
      "cell_type": "code",
      "source": [
        "#Correlation Heatmap\n",
        "plt.figure(figsize=(16,10))\n",
        "sns.heatmap(train_data[numerical_cols].corr(), annot=True)\n",
        "plt.show()"
      ],
      "metadata": {
        "id": "n2in8E_7wT7G"
      },
      "execution_count": null,
      "outputs": []
    },
    {
      "cell_type": "code",
      "source": [
        "#Inflight wifi service with Ease of Online booking had a correlation of 0.72\n",
        "for col in ['Inflight wifi service', 'Ease of Online booking']:\n",
        "    sns.catplot(x=col, y='satisfaction', data=train_data, kind='point', aspect=2, )\n",
        "    plt.ylim(0, 1)"
      ],
      "metadata": {
        "id": "uK7jx4J11PNi"
      },
      "execution_count": null,
      "outputs": []
    },
    {
      "cell_type": "code",
      "source": [
        "#Categorical Columns\n",
        "categorical_cols = [col for col in train_data.columns if train_data[col].dtypes in ['object']]\n",
        "#categorical_cols.append('satisfaction')  #Adding the satisfaction(target) column for EDA\n",
        "categorical_cols"
      ],
      "metadata": {
        "id": "-BDeK6zvwqMR"
      },
      "execution_count": null,
      "outputs": []
    },
    {
      "cell_type": "code",
      "source": [
        "for c in categorical_cols:\n",
        "    print(c)\n",
        "    print(train_data[c].unique())"
      ],
      "metadata": {
        "id": "8G2JF4-OdhAI"
      },
      "execution_count": null,
      "outputs": []
    },
    {
      "cell_type": "code",
      "source": [
        "train_data[\"satisfaction\"]=train_data[\"satisfaction\"].map({\"neutral or dissatisfied\":0,\"satisfied\":1})"
      ],
      "metadata": {
        "id": "-pS87IREy6W1"
      },
      "execution_count": null,
      "outputs": []
    },
    {
      "cell_type": "code",
      "source": [
        "#Categorical plots for categorical features\n",
        "for col in categorical_cols:\n",
        "    sns.catplot(x=col, y='satisfaction', data=train_data, kind='point', aspect=2, )\n",
        "    plt.ylim(0, 1)  #Ylim makes the y axis Min->0 and Max->1"
      ],
      "metadata": {
        "id": "0zLnRRrjxASM"
      },
      "execution_count": null,
      "outputs": []
    },
    {
      "cell_type": "code",
      "source": [
        "train_data.isnull().sum()"
      ],
      "metadata": {
        "id": "fBH97dFmxKJN"
      },
      "execution_count": null,
      "outputs": []
    },
    {
      "cell_type": "code",
      "source": [
        "#Filling the missing values in attribute - Arrival Delay in Minutes- with the mode\n",
        "value=train_data[\"Arrival Delay in Minutes\"].mode()[0]\n",
        "train_data[\"Arrival Delay in Minutes\"].fillna(value,inplace=True)"
      ],
      "metadata": {
        "id": "LDJ1mJCzc0Uu"
      },
      "execution_count": null,
      "outputs": []
    },
    {
      "cell_type": "code",
      "source": [
        "#Scaling the data\n",
        "from sklearn.preprocessing import StandardScaler\n",
        "sc = StandardScaler()\n",
        "train_data[numerical_cols] = sc.fit_transform(train_data[numerical_cols])\n",
        "train_data.head(3)"
      ],
      "metadata": {
        "id": "AfRt8qXuxZ-1"
      },
      "execution_count": null,
      "outputs": []
    },
    {
      "cell_type": "markdown",
      "source": [
        "Performing one-Hot encoding"
      ],
      "metadata": {
        "id": "no5br3e5dlcY"
      }
    },
    {
      "cell_type": "code",
      "source": [
        "train_data[\"Gender\"]=train_data[\"Gender\"].map({\"Male\":0,\"Female\":1})\n",
        "train_data[\"Customer Type\"]=train_data[\"Customer Type\"].map({\"disloyal Customer\":0,\"Loyal Customer\":1})\n",
        "train_data[\"Type of Travel\"]=train_data[\"Type of Travel\"].map({\"Personal Travel\":0,\"Business travel\":1})\n",
        "train_data[\"Class\"]=train_data[\"Class\"].map({\"Eco\":0,\"Eco Plus\":1,\"Business\":2})"
      ],
      "metadata": {
        "id": "d1jFx5jqdin6"
      },
      "execution_count": null,
      "outputs": []
    },
    {
      "cell_type": "code",
      "source": [
        "X_train=train_data.drop(\"satisfaction\",axis=1)\n",
        "y_train=train_data[\"satisfaction\"]"
      ],
      "metadata": {
        "id": "hxrTBzAXdy4O"
      },
      "execution_count": null,
      "outputs": []
    },
    {
      "cell_type": "code",
      "source": [
        "X_train.head()"
      ],
      "metadata": {
        "id": "pIpb16ius_b3"
      },
      "execution_count": null,
      "outputs": []
    },
    {
      "cell_type": "markdown",
      "source": [
        "Using Mutual info classifier to identify idenpendent and dependent variables"
      ],
      "metadata": {
        "id": "vLv3olnFtbPO"
      }
    },
    {
      "cell_type": "code",
      "source": [
        "from sklearn.feature_selection import mutual_info_classif\n",
        "plt.figure(figsize=(12,8))\n",
        "pd.Series(mutual_info_classif(X_train,y_train),index=X_train.columns).sort_values(ascending=False).plot(kind=\"barh\")"
      ],
      "metadata": {
        "id": "_Lda1mr2eGpF"
      },
      "execution_count": null,
      "outputs": []
    },
    {
      "cell_type": "markdown",
      "source": [
        "Feature Selection - Based on result of scaling"
      ],
      "metadata": {
        "id": "EkSPZcyWeiCU"
      }
    },
    {
      "cell_type": "code",
      "source": [
        "series=pd.Series(mutual_info_classif(X_train,y_train),index=X_train.columns).sort_values()\n",
        "feature_selection=series[series>0.05].index"
      ],
      "metadata": {
        "id": "HemJrUBcef64"
      },
      "execution_count": null,
      "outputs": []
    },
    {
      "cell_type": "code",
      "source": [
        "feature_selection"
      ],
      "metadata": {
        "id": "NA6bAaiNehmW"
      },
      "execution_count": null,
      "outputs": []
    },
    {
      "cell_type": "markdown",
      "source": [
        "Index(['Ease of Online booking', 'Cleanliness', 'On-board service',\n",
        "       'Flight Distance', 'Leg room service', 'Seat comfort',\n",
        "       'Inflight entertainment', 'Type of Travel', 'Class',\n",
        "       'Inflight wifi service', 'Online boarding'],\n",
        "      dtype='object')"
      ],
      "metadata": {
        "id": "rHtx4BZP0jEE"
      }
    },
    {
      "cell_type": "markdown",
      "source": [
        "We now end up with 11 Features which we will use to build our model"
      ],
      "metadata": {
        "id": "sb4qz2mQeuzm"
      }
    },
    {
      "cell_type": "code",
      "source": [
        "X_train=X_train[feature_selection]"
      ],
      "metadata": {
        "id": "DERmAjJ0e0B-"
      },
      "execution_count": null,
      "outputs": []
    },
    {
      "cell_type": "code",
      "source": [
        "X_train.shape"
      ],
      "metadata": {
        "id": "ajVRwQize22s"
      },
      "execution_count": null,
      "outputs": []
    },
    {
      "cell_type": "markdown",
      "source": [
        "**Machine Learning - Neural Network**"
      ],
      "metadata": {
        "id": "H9nfgvg8ySQx"
      }
    },
    {
      "cell_type": "code",
      "execution_count": null,
      "metadata": {
        "id": "8SUn-XSPqyxd"
      },
      "outputs": [],
      "source": [
        "# Use scikit-learn to grid search the number of neurons\n",
        "import numpy\n",
        "from sklearn.model_selection import GridSearchCV\n",
        "from keras.models import Sequential\n",
        "from keras.layers import Dense\n",
        "from keras.layers import Dropout\n",
        "from keras.wrappers.scikit_learn import KerasClassifier\n",
        "from keras.constraints import maxnorm"
      ]
    },
    {
      "cell_type": "code",
      "source": [
        "# Function to create model, required for KerasClassifier\n",
        "def create_model1(activation='relu', neurons=128):\n",
        "\t# create model\n",
        "\tmodel = Sequential()\n",
        "\tmodel.add(Dense(units=neurons, input_dim=8, kernel_initializer='uniform', activation=activation, kernel_constraint=maxnorm(4)))\n",
        "\tmodel.add(Dropout(0.2))\n",
        "\tmodel.add(Dense(1, kernel_initializer='uniform', activation='sigmoid'))\n",
        "\t# Compile model\n",
        "\tmodel.compile(loss='binary_crossentropy', optimizer='adam', metrics=['accuracy'])\n",
        "\treturn model"
      ],
      "metadata": {
        "id": "IPdJ8eJ_rPSf"
      },
      "execution_count": null,
      "outputs": []
    },
    {
      "cell_type": "code",
      "source": [
        "# fix random seed for reproducibility\n",
        "seed = 7\n",
        "numpy.random.seed(seed)\n",
        "# load dataset\n",
        "dataset = numpy.loadtxt(\"pima-indians-diabetes.csv\", delimiter=\",\")\n",
        "# split into input (X) and output (Y) variables\n",
        "X = dataset[:,0:8]\n",
        "Y = dataset[:,8]\n",
        "# create model\n",
        "model = KerasClassifier(build_fn=create_model1, epochs=100, batch_size=10, verbose=0)\n",
        "# define the grid search parameters\n",
        "activation = ['relu', 'tanh']\n",
        "neurons = [128, 256]\n",
        "param_grid = {'neurons':neurons, 'activation':activation}\n",
        "grid = GridSearchCV(estimator=model, param_grid=param_grid, n_jobs=-1, cv=3)\n",
        "grid_result = grid.fit(X, Y)\n",
        "# summarize results\n",
        "print(\"Best: %f using %s\" % (grid_result.best_score_, grid_result.best_params_))\n",
        "means = grid_result.cv_results_['mean_test_score']\n",
        "stds = grid_result.cv_results_['std_test_score']\n",
        "params = grid_result.cv_results_['params']\n",
        "for mean, stdev, param in zip(means, stds, params):\n",
        "    print(\"%f (%f) with: %r\" % (mean, stdev, param))"
      ],
      "metadata": {
        "id": "50HortNvrR_k"
      },
      "execution_count": null,
      "outputs": []
    },
    {
      "cell_type": "code",
      "source": [
        "# Function to create model, required for KerasClassifier\n",
        "def create_model2(activation='relu', neurons=(128, 64)):\n",
        "\t# create model\n",
        "  model = Sequential()\n",
        "  model.add(Dense(units=neurons[0], input_dim=8, kernel_initializer='uniform', activation=activation, kernel_constraint=maxnorm(4)))\n",
        "  model.add(Dropout(0.2))\n",
        "  model.add(Dense(units=neurons[1], kernel_initializer='uniform', activation=activation, kernel_constraint=maxnorm(4)))\n",
        "  model.add(Dropout(0.2))\n",
        "  model.add(Dense(1, kernel_initializer='uniform', activation='sigmoid'))\n",
        "\t# Compile model\n",
        "  model.compile(loss='binary_crossentropy', optimizer='adam', metrics=['accuracy'])\n",
        "  return model"
      ],
      "metadata": {
        "id": "skYwa3knrUhk"
      },
      "execution_count": null,
      "outputs": []
    },
    {
      "cell_type": "code",
      "source": [
        "# fix random seed for reproducibility\n",
        "seed = 7\n",
        "numpy.random.seed(seed)\n",
        "# load dataset\n",
        "dataset = numpy.loadtxt(\"pima-indians-diabetes.csv\", delimiter=\",\")\n",
        "# split into input (X) and output (Y) variables\n",
        "X = dataset[:,0:8]\n",
        "Y = dataset[:,8]\n",
        "# create model\n",
        "model = KerasClassifier(build_fn=create_model2, epochs=100, batch_size=10, verbose=0)\n",
        "# define the grid search parameters\n",
        "activation = ['relu', 'tanh']\n",
        "neurons = [(128, 64), (256, 128)]\n",
        "param_grid = {'neurons':neurons, 'activation':activation}\n",
        "grid = GridSearchCV(estimator=model, param_grid=param_grid, n_jobs=-1, cv=3)\n",
        "grid_result = grid.fit(X, Y)\n",
        "# summarize results\n",
        "print(\"Best: %f using %s\" % (grid_result.best_score_, grid_result.best_params_))\n",
        "means = grid_result.cv_results_['mean_test_score']\n",
        "stds = grid_result.cv_results_['std_test_score']\n",
        "params = grid_result.cv_results_['params']\n",
        "for mean, stdev, param in zip(means, stds, params):\n",
        "    print(\"%f (%f) with: %r\" % (mean, stdev, param))"
      ],
      "metadata": {
        "id": "b8PRz0orrzV4"
      },
      "execution_count": null,
      "outputs": []
    },
    {
      "cell_type": "markdown",
      "source": [
        "Based on the best model above, modify the parameters for the below code\n",
        "activation = \n",
        "neurons = \n",
        "(Already updated): cv = 10\n"
      ],
      "metadata": {
        "id": "Ng6eYSgJxagK"
      }
    },
    {
      "cell_type": "code",
      "source": [
        "# fix random seed for reproducibility\n",
        "seed = 7\n",
        "numpy.random.seed(seed)\n",
        "# load dataset\n",
        "dataset = numpy.loadtxt(\"pima-indians-diabetes.csv\", delimiter=\",\")\n",
        "# split into input (X) and output (Y) variables\n",
        "X = dataset[:,0:8]\n",
        "Y = dataset[:,8]\n",
        "# create model\n",
        "model = KerasClassifier(build_fn=create_model2, epochs=100, batch_size=10, verbose=0)\n",
        "# define the grid search parameters\n",
        "activation = ['relu', 'tanh']\n",
        "neurons = [(128, 64), (256, 128)]\n",
        "param_grid = {'neurons':neurons, 'activation':activation}\n",
        "grid = GridSearchCV(estimator=model, param_grid=param_grid, n_jobs=-1, cv=10)\n",
        "grid_result = grid.fit(X, Y)\n",
        "# summarize results\n",
        "print(\"Best: %f using %s\" % (grid_result.best_score_, grid_result.best_params_))\n",
        "means = grid_result.cv_results_['mean_test_score']\n",
        "stds = grid_result.cv_results_['std_test_score']\n",
        "params = grid_result.cv_results_['params']\n",
        "for mean, stdev, param in zip(means, stds, params):\n",
        "    print(\"%f (%f) with: %r\" % (mean, stdev, param))"
      ],
      "metadata": {
        "id": "8nuB0I9nwI9s"
      },
      "execution_count": null,
      "outputs": []
    }
  ]
}